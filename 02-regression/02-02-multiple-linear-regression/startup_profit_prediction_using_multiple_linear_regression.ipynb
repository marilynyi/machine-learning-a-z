{
 "cells": [
  {
   "cell_type": "markdown",
   "id": "abed47b0",
   "metadata": {},
   "source": [
    "# Startup Profit Prediction using Multiple Linear Regression"
   ]
  },
  {
   "cell_type": "markdown",
   "id": "7e7cb53a",
   "metadata": {},
   "source": [
    "**Scenario**: You are a VC looking to invest in a startup company. Use data for 50 existing startup companies with the following:\n",
    "- R&D Spend (\\$)\n",
    "- Administration (\\$)\n",
    "- Marketing Spend (\\$)\n",
    "- State (New York, California, or Florida)\n",
    "- Profit (\\$)"
   ]
  },
  {
   "cell_type": "markdown",
   "id": "680345c0",
   "metadata": {},
   "source": [
    "**Goal**: Predict the profit for a startup with given attributes"
   ]
  },
  {
   "cell_type": "markdown",
   "id": "dcaee533",
   "metadata": {},
   "source": [
    "## Table of Contents"
   ]
  },
  {
   "cell_type": "markdown",
   "id": "5bd13446",
   "metadata": {},
   "source": [
    "* [Data Preprocessing](#Data-Preprocessing)\n",
    "    * Importing the libraries\n",
    "    * Importing the dataset\n",
    "    * Encoding categorical data\n",
    "    * Splitting the dataset into the Training set and Test set\n",
    "* [Training the Multiple Linear Regression model on the Training set](#Training-the-Multiple-Linear-Regression-model-on-the-Training-set)\n",
    "* [Predicting the Test set results](#Predicting-the-Test-set-results)\n",
    "* [Predicting the profit of a startup with given attributes](#Predicting-the-profit-of-a-startup-with-given-attributes)\n",
    "* [Getting the final linear regression equation with the values of the coefficients](#Getting-the-final-linear-regression-equation-with-the-values-of-the-coefficients)\n",
    "\n",
    "**Note**: Feature scaling as data preprocessing step not needed for multiple linear regression"
   ]
  },
  {
   "cell_type": "markdown",
   "id": "e3bcfc71",
   "metadata": {},
   "source": [
    "## Data Preprocessing"
   ]
  },
  {
   "cell_type": "markdown",
   "id": "5382c969",
   "metadata": {},
   "source": [
    "### **Importing the libraries**"
   ]
  },
  {
   "cell_type": "code",
   "execution_count": 1,
   "id": "6fa2a919",
   "metadata": {},
   "outputs": [],
   "source": [
    "import numpy as np\n",
    "import matplotlib.pyplot as plt\n",
    "import pandas as pd"
   ]
  },
  {
   "cell_type": "markdown",
   "id": "43b3695c",
   "metadata": {},
   "source": [
    "### **Importing the dataset**"
   ]
  },
  {
   "cell_type": "code",
   "execution_count": 2,
   "id": "8f253182",
   "metadata": {},
   "outputs": [],
   "source": [
    "dataset = pd.read_csv('50_Startups.csv')\n",
    "X = dataset.iloc[:, :-1].values\n",
    "y = dataset.iloc[:, -1].values"
   ]
  },
  {
   "cell_type": "markdown",
   "id": "b9e9fbac",
   "metadata": {},
   "source": [
    "Print 5 sample rows of `dataset`"
   ]
  },
  {
   "cell_type": "code",
   "execution_count": 3,
   "id": "25354ab3",
   "metadata": {
    "scrolled": false
   },
   "outputs": [
    {
     "data": {
      "text/html": [
       "<div>\n",
       "<style scoped>\n",
       "    .dataframe tbody tr th:only-of-type {\n",
       "        vertical-align: middle;\n",
       "    }\n",
       "\n",
       "    .dataframe tbody tr th {\n",
       "        vertical-align: top;\n",
       "    }\n",
       "\n",
       "    .dataframe thead th {\n",
       "        text-align: right;\n",
       "    }\n",
       "</style>\n",
       "<table border=\"1\" class=\"dataframe\">\n",
       "  <thead>\n",
       "    <tr style=\"text-align: right;\">\n",
       "      <th></th>\n",
       "      <th>R&amp;D Spend</th>\n",
       "      <th>Administration</th>\n",
       "      <th>Marketing Spend</th>\n",
       "      <th>State</th>\n",
       "      <th>Profit</th>\n",
       "    </tr>\n",
       "  </thead>\n",
       "  <tbody>\n",
       "    <tr>\n",
       "      <th>0</th>\n",
       "      <td>165349.20</td>\n",
       "      <td>136897.80</td>\n",
       "      <td>471784.10</td>\n",
       "      <td>New York</td>\n",
       "      <td>192261.83</td>\n",
       "    </tr>\n",
       "    <tr>\n",
       "      <th>1</th>\n",
       "      <td>162597.70</td>\n",
       "      <td>151377.59</td>\n",
       "      <td>443898.53</td>\n",
       "      <td>California</td>\n",
       "      <td>191792.06</td>\n",
       "    </tr>\n",
       "    <tr>\n",
       "      <th>2</th>\n",
       "      <td>153441.51</td>\n",
       "      <td>101145.55</td>\n",
       "      <td>407934.54</td>\n",
       "      <td>Florida</td>\n",
       "      <td>191050.39</td>\n",
       "    </tr>\n",
       "    <tr>\n",
       "      <th>3</th>\n",
       "      <td>144372.41</td>\n",
       "      <td>118671.85</td>\n",
       "      <td>383199.62</td>\n",
       "      <td>New York</td>\n",
       "      <td>182901.99</td>\n",
       "    </tr>\n",
       "    <tr>\n",
       "      <th>4</th>\n",
       "      <td>142107.34</td>\n",
       "      <td>91391.77</td>\n",
       "      <td>366168.42</td>\n",
       "      <td>Florida</td>\n",
       "      <td>166187.94</td>\n",
       "    </tr>\n",
       "  </tbody>\n",
       "</table>\n",
       "</div>"
      ],
      "text/plain": [
       "   R&D Spend  Administration  Marketing Spend       State     Profit\n",
       "0  165349.20       136897.80        471784.10    New York  192261.83\n",
       "1  162597.70       151377.59        443898.53  California  191792.06\n",
       "2  153441.51       101145.55        407934.54     Florida  191050.39\n",
       "3  144372.41       118671.85        383199.62    New York  182901.99\n",
       "4  142107.34        91391.77        366168.42     Florida  166187.94"
      ]
     },
     "execution_count": 3,
     "metadata": {},
     "output_type": "execute_result"
    }
   ],
   "source": [
    "dataset.head()"
   ]
  },
  {
   "cell_type": "markdown",
   "id": "62e9be38",
   "metadata": {},
   "source": [
    "Print 5 samples of `X`"
   ]
  },
  {
   "cell_type": "code",
   "execution_count": 4,
   "id": "f8cc24b9",
   "metadata": {},
   "outputs": [
    {
     "name": "stdout",
     "output_type": "stream",
     "text": [
      "[[165349.2 136897.8 471784.1 'New York']\n",
      " [162597.7 151377.59 443898.53 'California']\n",
      " [153441.51 101145.55 407934.54 'Florida']\n",
      " [144372.41 118671.85 383199.62 'New York']\n",
      " [142107.34 91391.77 366168.42 'Florida']]\n"
     ]
    }
   ],
   "source": [
    "print(X[:5])"
   ]
  },
  {
   "cell_type": "markdown",
   "id": "604745f7",
   "metadata": {},
   "source": [
    "Print 5 samples of `y`"
   ]
  },
  {
   "cell_type": "code",
   "execution_count": 5,
   "id": "6f6eccc9",
   "metadata": {},
   "outputs": [
    {
     "name": "stdout",
     "output_type": "stream",
     "text": [
      "[192261.83 191792.06 191050.39 182901.99 166187.94]\n"
     ]
    }
   ],
   "source": [
    "print(y[:5])"
   ]
  },
  {
   "cell_type": "markdown",
   "id": "0c8034cf",
   "metadata": {},
   "source": [
    "### **Encoding categorical data**"
   ]
  },
  {
   "cell_type": "markdown",
   "id": "bda37244",
   "metadata": {},
   "source": [
    "Apply one-hot encoding to the `State` column."
   ]
  },
  {
   "cell_type": "code",
   "execution_count": 6,
   "id": "0ad16a98",
   "metadata": {},
   "outputs": [],
   "source": [
    "from sklearn.compose import ColumnTransformer\n",
    "from sklearn.preprocessing import OneHotEncoder\n",
    "# columns to be transformed are noted in 3rd index (4th column) of transformers; passthrough to keep the other columns unchanged\n",
    "ct = ColumnTransformer(transformers=[(\"encoder\", OneHotEncoder(), [3])], remainder=\"passthrough\")\n",
    "X = np.array(ct.fit_transform(X))"
   ]
  },
  {
   "cell_type": "markdown",
   "id": "925b3c0a",
   "metadata": {},
   "source": [
    "Print 5 samples of X with `State` one-hot encoded. `New York` is `0 0 1`, `California` is `1 0 0`, and `Florida` is `0 1 0`."
   ]
  },
  {
   "cell_type": "code",
   "execution_count": 7,
   "id": "3efea6e0",
   "metadata": {},
   "outputs": [
    {
     "name": "stdout",
     "output_type": "stream",
     "text": [
      "[[0.0 0.0 1.0 165349.2 136897.8 471784.1]\n",
      " [1.0 0.0 0.0 162597.7 151377.59 443898.53]\n",
      " [0.0 1.0 0.0 153441.51 101145.55 407934.54]\n",
      " [0.0 0.0 1.0 144372.41 118671.85 383199.62]\n",
      " [0.0 1.0 0.0 142107.34 91391.77 366168.42]]\n"
     ]
    }
   ],
   "source": [
    "print(X[:5])"
   ]
  },
  {
   "cell_type": "markdown",
   "id": "92b87ea9",
   "metadata": {},
   "source": [
    "### **Splitting the dataset into the Training set and Test set**"
   ]
  },
  {
   "cell_type": "code",
   "execution_count": 8,
   "id": "4cca606d",
   "metadata": {},
   "outputs": [],
   "source": [
    "from sklearn.model_selection import train_test_split\n",
    "X_train, X_test, y_train, y_test = train_test_split(X, y, test_size = 0.2, random_state = 0)"
   ]
  },
  {
   "cell_type": "markdown",
   "id": "be06949a",
   "metadata": {},
   "source": [
    "## Training the Multiple Linear Regression model on the Training set"
   ]
  },
  {
   "cell_type": "markdown",
   "id": "33e0461e",
   "metadata": {},
   "source": [
    "The `sklearn` model below\n",
    "- avoids the dummy variable trap\n",
    "- avoids needing to implement a technique like backward elimination to select statistically significant features when training the model to make accurate predictions\n",
    "- is the same used in single linear regression\n",
    "\n",
    "Allows more time to deploy models and accelerate the model selection process"
   ]
  },
  {
   "cell_type": "code",
   "execution_count": 9,
   "id": "3cd96a97",
   "metadata": {},
   "outputs": [
    {
     "data": {
      "text/html": [
       "<style>#sk-container-id-1 {color: black;background-color: white;}#sk-container-id-1 pre{padding: 0;}#sk-container-id-1 div.sk-toggleable {background-color: white;}#sk-container-id-1 label.sk-toggleable__label {cursor: pointer;display: block;width: 100%;margin-bottom: 0;padding: 0.3em;box-sizing: border-box;text-align: center;}#sk-container-id-1 label.sk-toggleable__label-arrow:before {content: \"▸\";float: left;margin-right: 0.25em;color: #696969;}#sk-container-id-1 label.sk-toggleable__label-arrow:hover:before {color: black;}#sk-container-id-1 div.sk-estimator:hover label.sk-toggleable__label-arrow:before {color: black;}#sk-container-id-1 div.sk-toggleable__content {max-height: 0;max-width: 0;overflow: hidden;text-align: left;background-color: #f0f8ff;}#sk-container-id-1 div.sk-toggleable__content pre {margin: 0.2em;color: black;border-radius: 0.25em;background-color: #f0f8ff;}#sk-container-id-1 input.sk-toggleable__control:checked~div.sk-toggleable__content {max-height: 200px;max-width: 100%;overflow: auto;}#sk-container-id-1 input.sk-toggleable__control:checked~label.sk-toggleable__label-arrow:before {content: \"▾\";}#sk-container-id-1 div.sk-estimator input.sk-toggleable__control:checked~label.sk-toggleable__label {background-color: #d4ebff;}#sk-container-id-1 div.sk-label input.sk-toggleable__control:checked~label.sk-toggleable__label {background-color: #d4ebff;}#sk-container-id-1 input.sk-hidden--visually {border: 0;clip: rect(1px 1px 1px 1px);clip: rect(1px, 1px, 1px, 1px);height: 1px;margin: -1px;overflow: hidden;padding: 0;position: absolute;width: 1px;}#sk-container-id-1 div.sk-estimator {font-family: monospace;background-color: #f0f8ff;border: 1px dotted black;border-radius: 0.25em;box-sizing: border-box;margin-bottom: 0.5em;}#sk-container-id-1 div.sk-estimator:hover {background-color: #d4ebff;}#sk-container-id-1 div.sk-parallel-item::after {content: \"\";width: 100%;border-bottom: 1px solid gray;flex-grow: 1;}#sk-container-id-1 div.sk-label:hover label.sk-toggleable__label {background-color: #d4ebff;}#sk-container-id-1 div.sk-serial::before {content: \"\";position: absolute;border-left: 1px solid gray;box-sizing: border-box;top: 0;bottom: 0;left: 50%;z-index: 0;}#sk-container-id-1 div.sk-serial {display: flex;flex-direction: column;align-items: center;background-color: white;padding-right: 0.2em;padding-left: 0.2em;position: relative;}#sk-container-id-1 div.sk-item {position: relative;z-index: 1;}#sk-container-id-1 div.sk-parallel {display: flex;align-items: stretch;justify-content: center;background-color: white;position: relative;}#sk-container-id-1 div.sk-item::before, #sk-container-id-1 div.sk-parallel-item::before {content: \"\";position: absolute;border-left: 1px solid gray;box-sizing: border-box;top: 0;bottom: 0;left: 50%;z-index: -1;}#sk-container-id-1 div.sk-parallel-item {display: flex;flex-direction: column;z-index: 1;position: relative;background-color: white;}#sk-container-id-1 div.sk-parallel-item:first-child::after {align-self: flex-end;width: 50%;}#sk-container-id-1 div.sk-parallel-item:last-child::after {align-self: flex-start;width: 50%;}#sk-container-id-1 div.sk-parallel-item:only-child::after {width: 0;}#sk-container-id-1 div.sk-dashed-wrapped {border: 1px dashed gray;margin: 0 0.4em 0.5em 0.4em;box-sizing: border-box;padding-bottom: 0.4em;background-color: white;}#sk-container-id-1 div.sk-label label {font-family: monospace;font-weight: bold;display: inline-block;line-height: 1.2em;}#sk-container-id-1 div.sk-label-container {text-align: center;}#sk-container-id-1 div.sk-container {/* jupyter's `normalize.less` sets `[hidden] { display: none; }` but bootstrap.min.css set `[hidden] { display: none !important; }` so we also need the `!important` here to be able to override the default hidden behavior on the sphinx rendered scikit-learn.org. See: https://github.com/scikit-learn/scikit-learn/issues/21755 */display: inline-block !important;position: relative;}#sk-container-id-1 div.sk-text-repr-fallback {display: none;}</style><div id=\"sk-container-id-1\" class=\"sk-top-container\"><div class=\"sk-text-repr-fallback\"><pre>LinearRegression()</pre><b>In a Jupyter environment, please rerun this cell to show the HTML representation or trust the notebook. <br />On GitHub, the HTML representation is unable to render, please try loading this page with nbviewer.org.</b></div><div class=\"sk-container\" hidden><div class=\"sk-item\"><div class=\"sk-estimator sk-toggleable\"><input class=\"sk-toggleable__control sk-hidden--visually\" id=\"sk-estimator-id-1\" type=\"checkbox\" checked><label for=\"sk-estimator-id-1\" class=\"sk-toggleable__label sk-toggleable__label-arrow\">LinearRegression</label><div class=\"sk-toggleable__content\"><pre>LinearRegression()</pre></div></div></div></div></div>"
      ],
      "text/plain": [
       "LinearRegression()"
      ]
     },
     "execution_count": 9,
     "metadata": {},
     "output_type": "execute_result"
    }
   ],
   "source": [
    "from sklearn.linear_model import LinearRegression\n",
    "regressor = LinearRegression()\n",
    "regressor.fit(X_train, y_train)"
   ]
  },
  {
   "cell_type": "markdown",
   "id": "3c47f1c2",
   "metadata": {},
   "source": [
    "## Predicting the Test set results"
   ]
  },
  {
   "cell_type": "code",
   "execution_count": 10,
   "id": "eb9b2b8c",
   "metadata": {},
   "outputs": [
    {
     "name": "stdout",
     "output_type": "stream",
     "text": [
      "[[103015.2  103282.38]\n",
      " [132582.28 144259.4 ]\n",
      " [132447.74 146121.95]\n",
      " [ 71976.1   77798.83]\n",
      " [178537.48 191050.39]\n",
      " [116161.24 105008.31]\n",
      " [ 67851.69  81229.06]\n",
      " [ 98791.73  97483.56]\n",
      " [113969.44 110352.25]\n",
      " [167921.07 166187.94]]\n"
     ]
    }
   ],
   "source": [
    "# Instantiate predicted vector of the test set\n",
    "y_pred = regressor.predict(X_test)\n",
    "\n",
    "np.set_printoptions(precision=2)\n",
    "\n",
    "# Print predicted vector vertically instead of default horizontally\n",
    "# Axis 1 concatenates the columns\n",
    "print(np.concatenate((y_pred.reshape(len(y_pred),1), y_test.reshape(len(y_test),1)), axis = 1))"
   ]
  },
  {
   "cell_type": "markdown",
   "id": "3aa62e2c",
   "metadata": {},
   "source": [
    "## Predicting the profit of a startup with given attributes"
   ]
  },
  {
   "cell_type": "markdown",
   "id": "53f2f4d1",
   "metadata": {},
   "source": [
    "**Question 1**: How do I use my multiple linear regression model to make a single prediction, for example, the profit of a startup with R&D Spend = \\\\$160,000, Administration Spend = \\\\$130,000, Marketing Spend = \\\\$300,000, and State = California?"
   ]
  },
  {
   "cell_type": "code",
   "execution_count": 11,
   "id": "4d899b84",
   "metadata": {},
   "outputs": [
    {
     "name": "stdout",
     "output_type": "stream",
     "text": [
      "[181566.92]\n"
     ]
    }
   ],
   "source": [
    "# Recall the one-hot encoding for California is 1 0 0\n",
    "print(regressor.predict([[1, 0, 0, 160000,130000,300000]]))"
   ]
  },
  {
   "cell_type": "markdown",
   "id": "64c0f900",
   "metadata": {},
   "source": [
    "Our model predicts that the profit of a startup in California which spent \\\\$160,000 in R\\&D, \\\\$130,000 in Administration, and \\\\$300,000 in Marketing is \\\\$181,566.92."
   ]
  },
  {
   "cell_type": "markdown",
   "id": "3fde64f2",
   "metadata": {},
   "source": [
    ">**Important note**: Notice that the value of the feature (12 years) was input into a double pair of square brackets. That's because the \"predict\" method always expects a 2D array as the format of its inputs. And putting 12 into a double pair of square brackets makes the input exactly a 2D array. Simply put:\n",
    ">- `12` -> scalar\n",
    ">- `[12]` -> 1D array\n",
    ">- `[[12]]` -> 2D array"
   ]
  },
  {
   "cell_type": "markdown",
   "id": "66df6c4d",
   "metadata": {},
   "source": [
    "## Getting the final linear regression equation with the values of the coefficients"
   ]
  },
  {
   "cell_type": "markdown",
   "id": "6d7fcb20",
   "metadata": {},
   "source": [
    "**Question 2**: How do I get the final regression equation y = b0 + b1 \\* x1 + b2 \\* x2 + ... with the final values of the coefficients?"
   ]
  },
  {
   "cell_type": "code",
   "execution_count": 12,
   "id": "c8a79c08",
   "metadata": {},
   "outputs": [
    {
     "name": "stdout",
     "output_type": "stream",
     "text": [
      "[ 8.66e+01 -8.73e+02  7.86e+02  7.73e-01  3.29e-02  3.66e-02]\n",
      "42467.529248548686\n"
     ]
    }
   ],
   "source": [
    "print(regressor.coef_) # b1, b2, ... = regression coefficients\n",
    "print(regressor.intercept_) # b0 = regression constant"
   ]
  },
  {
   "cell_type": "markdown",
   "id": "70e20edf",
   "metadata": {},
   "source": [
    "Therefore, the equation of our simple linear regression model is:\n",
    "$$ \\text{Profit} = (86.6 * \\text{Dummy State 1: California}) - (873 * \\text{Dummy State 2: Florida}) + (786 * \\text{Dummy State 3: New York}) + $$\n",
    "$$ (0.773 * \\text{R&D Spend}) + (0.0329 * \\text{Administration}) + (0.0366 * \\text{Marketing Spend}) + 42467.5 $$"
   ]
  },
  {
   "cell_type": "markdown",
   "id": "ec34f1d8",
   "metadata": {},
   "source": [
    ">**Important note**: To get these coefficients, we called the \"coef_\" and \"intercept_\" attributes from our regressor object. Attributes in Python are different than methods and usually return a simple value or an array of values."
   ]
  },
  {
   "cell_type": "code",
   "execution_count": null,
   "id": "102781ab",
   "metadata": {},
   "outputs": [],
   "source": []
  }
 ],
 "metadata": {
  "kernelspec": {
   "display_name": "Python 3 (ipykernel)",
   "language": "python",
   "name": "python3"
  },
  "language_info": {
   "codemirror_mode": {
    "name": "ipython",
    "version": 3
   },
   "file_extension": ".py",
   "mimetype": "text/x-python",
   "name": "python",
   "nbconvert_exporter": "python",
   "pygments_lexer": "ipython3",
   "version": "3.11.3"
  }
 },
 "nbformat": 4,
 "nbformat_minor": 5
}
