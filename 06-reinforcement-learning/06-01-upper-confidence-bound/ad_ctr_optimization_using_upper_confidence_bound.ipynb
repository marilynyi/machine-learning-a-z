{
 "cells": [
  {
   "cell_type": "markdown",
   "metadata": {
    "colab_type": "text",
    "id": "QJdrJJQUv3-k"
   },
   "source": [
    "# Ad CTR Optimization using Upper Confidence Bound (UCB)"
   ]
  },
  {
   "cell_type": "markdown",
   "metadata": {},
   "source": [
    "**Scenario**: We receive a dataset with users in the rows and ads in the columns. A `1` denotes that the user clicked on that particular and `0` denotes otherwise.\n",
    "\n",
    "**Goal**: Find the ad with the highest clickthrough rate (CTR).\n",
    "\n",
    "**Results**: Over 10,000 rounds, the 5th ad or ad at index 4 was found to have the highest clickthrough rate. This result remains unchanged when decreasing the number of rounds to 1,000. However, the results change at 500 rounds where the 8th ad presented itself to have the higher clickthrough rate but only slightly over the 5th ad. Therefore, for plausible results, we determine with a mininum of 1,000 rounds, the 5th ad had the highest frequency of clicks."
   ]
  },
  {
   "cell_type": "markdown",
   "metadata": {
    "colab_type": "text",
    "id": "2XCjepjJwEv-"
   },
   "source": [
    "## Importing the libraries"
   ]
  },
  {
   "cell_type": "code",
   "execution_count": 1,
   "metadata": {
    "colab": {},
    "colab_type": "code",
    "id": "l_mBkG3YwNTt"
   },
   "outputs": [],
   "source": [
    "import numpy as np\n",
    "import matplotlib.pyplot as plt\n",
    "import pandas as pd\n",
    "import math\n",
    "import warnings\n",
    "\n",
    "warnings.filterwarnings(\"ignore\")"
   ]
  },
  {
   "cell_type": "markdown",
   "metadata": {
    "colab_type": "text",
    "id": "npqlXjaNwYTv"
   },
   "source": [
    "## Importing the dataset"
   ]
  },
  {
   "cell_type": "code",
   "execution_count": 2,
   "metadata": {
    "colab": {},
    "colab_type": "code",
    "id": "HMJfUVLVwcFc"
   },
   "outputs": [],
   "source": [
    "dataset = pd.read_csv('Ads_CTR_Optimisation.csv')"
   ]
  },
  {
   "cell_type": "markdown",
   "metadata": {
    "colab_type": "text",
    "id": "PaSbots_wfoB"
   },
   "source": [
    "## Implementing UCB"
   ]
  },
  {
   "cell_type": "code",
   "execution_count": 3,
   "metadata": {},
   "outputs": [],
   "source": [
    "N = 10000 # number of rounds\n",
    "d = 10 # number of ads\n",
    "ads_selected = []\n",
    "numbers_of_selections = [0] * d\n",
    "sums_of_rewards = [0] * d\n",
    "total_reward = 0\n",
    "\n",
    "for n in range(0, N):\n",
    "    ad = 0\n",
    "    max_upper_bound = 0\n",
    "    \n",
    "    for i in range(0, d):\n",
    "        \n",
    "        if numbers_of_selections[i] > 0:\n",
    "            average_reward = sums_of_rewards[i] / numbers_of_selections[i]\n",
    "            delta_i = math.sqrt(3/2*math.log(n+1)/numbers_of_selections[i])\n",
    "            upper_bound = average_reward + delta_i\n",
    "        else:\n",
    "            \n",
    "            upper_bound = 1e400\n",
    "            \n",
    "        if upper_bound > max_upper_bound:\n",
    "            max_upper_bound = upper_bound\n",
    "            ad = i\n",
    "    \n",
    "    ads_selected.append(ad)\n",
    "    numbers_of_selections[ad] += 1\n",
    "    reward = dataset.values[n, ad]\n",
    "    sums_of_rewards[ad] += reward\n",
    "    total_reward += reward"
   ]
  },
  {
   "cell_type": "markdown",
   "metadata": {
    "colab_type": "text",
    "id": "AXftWcjDwsYj"
   },
   "source": [
    "## Visualizing the results"
   ]
  },
  {
   "cell_type": "code",
   "execution_count": 4,
   "metadata": {},
   "outputs": [
    {
     "data": {
      "image/png": "[encoded data removed]",
      "text/plain": [
       "<Figure size 640x480 with 1 Axes>"
      ]
     },
     "metadata": {},
     "output_type": "display_data"
    }
   ],
   "source": [
    "plt.hist(ads_selected)\n",
    "plt.title(\"Histogram of ad selection\")\n",
    "plt.xlabel(\"Ad\")\n",
    "plt.ylabel(\"Number of times ad was selected\")\n",
    "plt.show()"
   ]
  },
  {
   "cell_type": "code",
   "execution_count": null,
   "metadata": {},
   "outputs": [],
   "source": []
  }
 ],
 "metadata": {
  "colab": {
   "authorship_tag": "ABX9TyMz+roSgJuEsprRsPKmwoVD",
   "collapsed_sections": [],
   "name": "Upper Confidence Bound",
   "provenance": [],
   "toc_visible": true
  },
  "kernelspec": {
   "display_name": "Python 3 (ipykernel)",
   "language": "python",
   "name": "python3"
  },
  "language_info": {
   "codemirror_mode": {
    "name": "ipython",
    "version": 3
   },
   "file_extension": ".py",
   "mimetype": "text/x-python",
   "name": "python",
   "nbconvert_exporter": "python",
   "pygments_lexer": "ipython3",
   "version": "3.11.3"
  }
 },
 "nbformat": 4,
 "nbformat_minor": 1
}
