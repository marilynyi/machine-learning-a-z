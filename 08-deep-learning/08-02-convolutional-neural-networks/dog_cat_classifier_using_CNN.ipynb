{
  "cells": [
    {
      "attachments": {},
      "cell_type": "markdown",
      "metadata": {
        "colab_type": "text",
        "id": "3DR-eO17geWu"
      },
      "source": [
        "# Dog/Cat Classifier using CNN"
      ]
    },
    {
      "attachments": {},
      "cell_type": "markdown",
      "metadata": {},
      "source": [
        "**Scenario**: We pull the training dataset of 25,000 dog and cat pictures split evenly from the [Kaggle Dogs vs. Cats](https://www.kaggle.com/competitions/dogs-vs-cats/data) competition data file `train.zip`. \n",
        "\n",
        "For the purpose of manageably uploading all project files to GitHub and implementing this model, we reduce our dataset size to 200 random dog and cat pictures with a 30/70 split:\n",
        "- Training set: 70 dogs and 70 cats\n",
        "- Test set: 60 random dog and cat pictures\n",
        "\n",
        "**Goal**: Using the convolutional neural network model (CNN), classify a new image as either a dog or a cat.\n",
        "\n",
        "**Results**: \n",
        "\n",
        "We tested 10 single predictions after building and training the CNN model on the abridged dataset of 200 images. Out of the 10, five were misclassified. \n",
        "\n",
        "Performing the analysis using the full dataset, three were misclassified. It appears that increasing the training set size improved the results by decreasing the loss and increasing the accuracy.\n",
        "\n",
        "| Training Size | Test Size | Misclassified | Loss | Accuracy\n",
        "| :--: | :--: | :--: | :--: | :--: |\n",
        "| 140 | 60 | 2, 4, 5, 6, 9 | 0.4150 | 0.8643 |\n",
        "| 25,000 | 15,001 | 1, 2, 4 | 0.2437 | 0.8977 |\n",
        "\n",
        "It appears that both models misclassified the cat images 2 and 4 as dogs. These are shown below."
      ]
    },
    {
      "cell_type": "code",
      "execution_count": 40,
      "metadata": {},
      "outputs": [
        {
          "data": {
            "image/jpeg": "[encoded data removed]",
            "text/plain": [
              "<IPython.core.display.Image object>"
            ]
          },
          "metadata": {
            "image/jpeg": {
              "width": 200
            }
          },
          "output_type": "display_data"
        },
        {
          "data": {
            "image/jpeg": "[encoded data removed]",
            "text/plain": [
              "<IPython.core.display.Image object>"
            ]
          },
          "metadata": {},
          "output_type": "display_data"
        }
      ],
      "source": [
        "from IPython.display import Image, display\n",
        "display(Image(filename=\"./dataset/single_prediction/cat_or_dog_2.jpeg\", width=200))\n",
        "display(Image(filename=\"./dataset/single_prediction/cat_or_dog_4.jpeg\"))"
      ]
    },
    {
      "cell_type": "markdown",
      "metadata": {
        "colab_type": "text",
        "id": "EMefrVPCg-60"
      },
      "source": [
        "### Importing the libraries"
      ]
    },
    {
      "cell_type": "code",
      "execution_count": 2,
      "metadata": {
        "colab": {},
        "colab_type": "code",
        "id": "sCV30xyVhFbE"
      },
      "outputs": [],
      "source": [
        "import tensorflow as tf\n",
        "from keras.preprocessing.image import ImageDataGenerator\n",
        "import numpy as np\n",
        "import pandas as pd\n",
        "from keras.preprocessing import image"
      ]
    },
    {
      "cell_type": "code",
      "execution_count": 3,
      "metadata": {
        "colab": {},
        "colab_type": "code",
        "id": "FIleuCAjoFD8"
      },
      "outputs": [
        {
          "data": {
            "text/plain": [
              "'2.13.0-rc1'"
            ]
          },
          "execution_count": 3,
          "metadata": {},
          "output_type": "execute_result"
        }
      ],
      "source": [
        "tf.__version__"
      ]
    },
    {
      "cell_type": "markdown",
      "metadata": {
        "colab_type": "text",
        "id": "oxQxCBWyoGPE"
      },
      "source": [
        "## Part 1 - Data Preprocessing"
      ]
    },
    {
      "attachments": {},
      "cell_type": "markdown",
      "metadata": {},
      "source": [
        "We set `full_dataset` to `False` to analyze our abridged dataset of 140 training images and 60 test images. For our local copy, we can set `full_set` to `True` to use the full dataset of 25,000 training images and 12,500 test images."
      ]
    },
    {
      "cell_type": "code",
      "execution_count": 4,
      "metadata": {},
      "outputs": [],
      "source": [
        "use_full_set = False\n",
        "\n",
        "if use_full_set == True:\n",
        "    data_path = \"config\" # hidden folder\n",
        "else:\n",
        "    data_path = \"dataset\""
      ]
    },
    {
      "cell_type": "markdown",
      "metadata": {
        "colab_type": "text",
        "id": "MvE-heJNo3GG"
      },
      "source": [
        "### Preprocessing the Training set"
      ]
    },
    {
      "cell_type": "code",
      "execution_count": 5,
      "metadata": {
        "colab": {},
        "colab_type": "code",
        "id": "0koUcJMJpEBD"
      },
      "outputs": [
        {
          "name": "stdout",
          "output_type": "stream",
          "text": [
            "Found 140 images belonging to 2 classes.\n"
          ]
        }
      ],
      "source": [
        "train_datagen = ImageDataGenerator(rescale = 1./255,\n",
        "                                   shear_range = 0.2,\n",
        "                                   zoom_range = 0.2,\n",
        "                                   horizontal_flip = True)\n",
        "training_set = train_datagen.flow_from_directory(f'{data_path}/training_set',\n",
        "                                                 target_size = (64, 64),\n",
        "                                                 batch_size = 32,\n",
        "                                                 class_mode = 'binary')"
      ]
    },
    {
      "cell_type": "markdown",
      "metadata": {
        "colab_type": "text",
        "id": "mrCMmGw9pHys"
      },
      "source": [
        "### Preprocessing the Test set"
      ]
    },
    {
      "cell_type": "code",
      "execution_count": 6,
      "metadata": {
        "colab": {},
        "colab_type": "code",
        "id": "SH4WzfOhpKc3"
      },
      "outputs": [
        {
          "name": "stdout",
          "output_type": "stream",
          "text": [
            "Found 60 images belonging to 2 classes.\n"
          ]
        }
      ],
      "source": [
        "test_datagen = ImageDataGenerator(rescale = 1./255)\n",
        "test_set = test_datagen.flow_from_directory(f'{data_path}/test_set',\n",
        "                                            target_size = (64, 64),\n",
        "                                            batch_size = 32,\n",
        "                                            class_mode = 'binary')"
      ]
    },
    {
      "cell_type": "markdown",
      "metadata": {
        "colab_type": "text",
        "id": "af8O4l90gk7B"
      },
      "source": [
        "## Part 2 - Building the CNN"
      ]
    },
    {
      "cell_type": "markdown",
      "metadata": {
        "colab_type": "text",
        "id": "ces1gXY2lmoX"
      },
      "source": [
        "### Initialising the CNN"
      ]
    },
    {
      "cell_type": "code",
      "execution_count": 7,
      "metadata": {
        "colab": {},
        "colab_type": "code",
        "id": "SAUt4UMPlhLS"
      },
      "outputs": [],
      "source": [
        "cnn = tf.keras.models.Sequential()"
      ]
    },
    {
      "cell_type": "markdown",
      "metadata": {
        "colab_type": "text",
        "id": "u5YJj_XMl5LF"
      },
      "source": [
        "### Step 1 - Convolution"
      ]
    },
    {
      "cell_type": "code",
      "execution_count": 8,
      "metadata": {
        "colab": {},
        "colab_type": "code",
        "id": "XPzPrMckl-hV"
      },
      "outputs": [],
      "source": [
        "cnn.add(tf.keras.layers.Conv2D(filters=32, kernel_size=3, activation='relu', input_shape=[64, 64, 3]))"
      ]
    },
    {
      "cell_type": "markdown",
      "metadata": {
        "colab_type": "text",
        "id": "tf87FpvxmNOJ"
      },
      "source": [
        "### Step 2 - Pooling"
      ]
    },
    {
      "cell_type": "code",
      "execution_count": 9,
      "metadata": {
        "colab": {},
        "colab_type": "code",
        "id": "ncpqPl69mOac"
      },
      "outputs": [],
      "source": [
        "cnn.add(tf.keras.layers.MaxPool2D(pool_size=2, strides=2))"
      ]
    },
    {
      "cell_type": "markdown",
      "metadata": {
        "colab_type": "text",
        "id": "xaTOgD8rm4mU"
      },
      "source": [
        "### Adding a second convolutional layer"
      ]
    },
    {
      "cell_type": "code",
      "execution_count": 10,
      "metadata": {
        "colab": {},
        "colab_type": "code",
        "id": "i_-FZjn_m8gk"
      },
      "outputs": [],
      "source": [
        "cnn.add(tf.keras.layers.Conv2D(filters=32, kernel_size=3, activation='relu'))\n",
        "cnn.add(tf.keras.layers.MaxPool2D(pool_size=2, strides=2))"
      ]
    },
    {
      "cell_type": "markdown",
      "metadata": {
        "colab_type": "text",
        "id": "tmiEuvTunKfk"
      },
      "source": [
        "### Step 3 - Flattening"
      ]
    },
    {
      "cell_type": "code",
      "execution_count": 11,
      "metadata": {
        "colab": {},
        "colab_type": "code",
        "id": "6AZeOGCvnNZn"
      },
      "outputs": [],
      "source": [
        "cnn.add(tf.keras.layers.Flatten())"
      ]
    },
    {
      "cell_type": "markdown",
      "metadata": {
        "colab_type": "text",
        "id": "dAoSECOm203v"
      },
      "source": [
        "### Step 4 - Full Connection"
      ]
    },
    {
      "cell_type": "code",
      "execution_count": 12,
      "metadata": {
        "colab": {},
        "colab_type": "code",
        "id": "8GtmUlLd26Nq"
      },
      "outputs": [],
      "source": [
        "cnn.add(tf.keras.layers.Dense(units=128, activation='relu'))"
      ]
    },
    {
      "cell_type": "markdown",
      "metadata": {
        "colab_type": "text",
        "id": "yTldFvbX28Na"
      },
      "source": [
        "### Step 5 - Output Layer"
      ]
    },
    {
      "cell_type": "code",
      "execution_count": 13,
      "metadata": {
        "colab": {},
        "colab_type": "code",
        "id": "1p_Zj1Mc3Ko_"
      },
      "outputs": [],
      "source": [
        "cnn.add(tf.keras.layers.Dense(units=1, activation='sigmoid'))"
      ]
    },
    {
      "cell_type": "markdown",
      "metadata": {
        "colab_type": "text",
        "id": "D6XkI90snSDl"
      },
      "source": [
        "## Part 3 - Training the CNN"
      ]
    },
    {
      "cell_type": "markdown",
      "metadata": {
        "colab_type": "text",
        "id": "vfrFQACEnc6i"
      },
      "source": [
        "### Compiling the CNN"
      ]
    },
    {
      "cell_type": "code",
      "execution_count": 14,
      "metadata": {
        "colab": {},
        "colab_type": "code",
        "id": "NALksrNQpUlJ"
      },
      "outputs": [],
      "source": [
        "cnn.compile(optimizer = 'adam', loss = 'binary_crossentropy', metrics = ['accuracy'])"
      ]
    },
    {
      "cell_type": "markdown",
      "metadata": {
        "colab_type": "text",
        "id": "ehS-v3MIpX2h"
      },
      "source": [
        "### Training the CNN on the Training set and evaluating it on the Test set"
      ]
    },
    {
      "cell_type": "code",
      "execution_count": 15,
      "metadata": {
        "colab": {},
        "colab_type": "code",
        "id": "XUj1W4PJptta"
      },
      "outputs": [
        {
          "name": "stdout",
          "output_type": "stream",
          "text": [
            "Epoch 1/25\n",
            "5/5 [==============================] - 2s 207ms/step - loss: 0.8906 - accuracy: 0.4786 - val_loss: 0.7122 - val_accuracy: 0.5000\n",
            "Epoch 2/25\n",
            "5/5 [==============================] - 0s 65ms/step - loss: 0.7027 - accuracy: 0.5000 - val_loss: 0.6958 - val_accuracy: 0.5000\n",
            "Epoch 3/25\n",
            "5/5 [==============================] - 0s 64ms/step - loss: 0.6962 - accuracy: 0.5000 - val_loss: 0.6927 - val_accuracy: 0.5000\n",
            "Epoch 4/25\n",
            "5/5 [==============================] - 0s 71ms/step - loss: 0.6922 - accuracy: 0.5000 - val_loss: 0.6920 - val_accuracy: 0.5000\n",
            "Epoch 5/25\n",
            "5/5 [==============================] - 0s 75ms/step - loss: 0.6903 - accuracy: 0.5000 - val_loss: 0.6910 - val_accuracy: 0.5000\n",
            "Epoch 6/25\n",
            "5/5 [==============================] - 0s 64ms/step - loss: 0.6946 - accuracy: 0.5000 - val_loss: 0.6910 - val_accuracy: 0.5000\n",
            "Epoch 7/25\n",
            "5/5 [==============================] - 0s 76ms/step - loss: 0.6866 - accuracy: 0.5000 - val_loss: 0.6863 - val_accuracy: 0.5000\n",
            "Epoch 8/25\n",
            "5/5 [==============================] - 0s 65ms/step - loss: 0.6809 - accuracy: 0.5000 - val_loss: 0.6921 - val_accuracy: 0.5000\n",
            "Epoch 9/25\n",
            "5/5 [==============================] - 0s 64ms/step - loss: 0.6747 - accuracy: 0.5000 - val_loss: 0.6840 - val_accuracy: 0.5000\n",
            "Epoch 10/25\n",
            "5/5 [==============================] - 0s 72ms/step - loss: 0.6765 - accuracy: 0.6857 - val_loss: 0.6882 - val_accuracy: 0.5333\n",
            "Epoch 11/25\n",
            "5/5 [==============================] - 0s 89ms/step - loss: 0.6794 - accuracy: 0.6643 - val_loss: 0.6896 - val_accuracy: 0.5000\n",
            "Epoch 12/25\n",
            "5/5 [==============================] - 0s 73ms/step - loss: 0.6730 - accuracy: 0.5786 - val_loss: 0.6823 - val_accuracy: 0.4833\n",
            "Epoch 13/25\n",
            "5/5 [==============================] - 0s 66ms/step - loss: 0.6472 - accuracy: 0.6786 - val_loss: 0.6904 - val_accuracy: 0.5000\n",
            "Epoch 14/25\n",
            "5/5 [==============================] - 0s 71ms/step - loss: 0.6202 - accuracy: 0.6500 - val_loss: 0.6771 - val_accuracy: 0.5833\n",
            "Epoch 15/25\n",
            "5/5 [==============================] - 0s 67ms/step - loss: 0.5966 - accuracy: 0.6643 - val_loss: 0.8131 - val_accuracy: 0.5333\n",
            "Epoch 16/25\n",
            "5/5 [==============================] - 0s 76ms/step - loss: 0.5895 - accuracy: 0.7214 - val_loss: 0.7163 - val_accuracy: 0.5833\n",
            "Epoch 17/25\n",
            "5/5 [==============================] - 0s 62ms/step - loss: 0.5497 - accuracy: 0.7143 - val_loss: 0.6963 - val_accuracy: 0.6333\n",
            "Epoch 18/25\n",
            "5/5 [==============================] - 0s 66ms/step - loss: 0.5953 - accuracy: 0.6571 - val_loss: 0.8590 - val_accuracy: 0.6333\n",
            "Epoch 19/25\n",
            "5/5 [==============================] - 0s 63ms/step - loss: 0.5421 - accuracy: 0.7143 - val_loss: 0.6932 - val_accuracy: 0.6333\n",
            "Epoch 20/25\n",
            "5/5 [==============================] - 0s 65ms/step - loss: 0.5189 - accuracy: 0.8143 - val_loss: 0.7248 - val_accuracy: 0.5333\n",
            "Epoch 21/25\n",
            "5/5 [==============================] - 0s 66ms/step - loss: 0.5064 - accuracy: 0.7714 - val_loss: 0.7765 - val_accuracy: 0.5167\n",
            "Epoch 22/25\n",
            "5/5 [==============================] - 0s 62ms/step - loss: 0.4754 - accuracy: 0.8071 - val_loss: 0.7177 - val_accuracy: 0.6333\n",
            "Epoch 23/25\n",
            "5/5 [==============================] - 0s 76ms/step - loss: 0.5003 - accuracy: 0.7429 - val_loss: 0.7401 - val_accuracy: 0.6000\n",
            "Epoch 24/25\n",
            "5/5 [==============================] - 0s 66ms/step - loss: 0.4581 - accuracy: 0.7786 - val_loss: 0.7652 - val_accuracy: 0.6333\n",
            "Epoch 25/25\n",
            "5/5 [==============================] - 0s 64ms/step - loss: 0.4150 - accuracy: 0.8643 - val_loss: 0.7401 - val_accuracy: 0.6167\n"
          ]
        },
        {
          "data": {
            "text/plain": [
              "<keras.src.callbacks.History at 0x2acf56e50>"
            ]
          },
          "execution_count": 15,
          "metadata": {},
          "output_type": "execute_result"
        }
      ],
      "source": [
        "cnn.fit(x = training_set, validation_data = test_set, epochs = 25)"
      ]
    },
    {
      "cell_type": "markdown",
      "metadata": {
        "colab_type": "text",
        "id": "U3PZasO0006Z"
      },
      "source": [
        "## Part 4 - Making a single prediction"
      ]
    },
    {
      "attachments": {},
      "cell_type": "markdown",
      "metadata": {},
      "source": [
        "### Using the abridged dataset"
      ]
    },
    {
      "cell_type": "code",
      "execution_count": 37,
      "metadata": {
        "colab": {},
        "colab_type": "code",
        "id": "gsSiWEJY1BPB"
      },
      "outputs": [
        {
          "name": "stdout",
          "output_type": "stream",
          "text": [
            "1/1 [==============================] - 0s 20ms/step\n"
          ]
        }
      ],
      "source": [
        "# Change number between 1-10 to test different predictions\n",
        "img_num = 10\n",
        "img_path = f'{data_path}/single_prediction/cat_or_dog_{img_num}.jpeg'\n",
        "test_image = image.load_img(img_path, target_size = (64, 64))\n",
        "test_image = image.img_to_array(test_image)\n",
        "test_image = np.expand_dims(test_image, axis = 0)\n",
        "result = cnn.predict(test_image)\n",
        "training_set.class_indices\n",
        "if result[0][0] == 1:\n",
        "  prediction = 'dog'\n",
        "else:\n",
        "  prediction = 'cat'"
      ]
    },
    {
      "cell_type": "code",
      "execution_count": 38,
      "metadata": {
        "colab": {},
        "colab_type": "code",
        "id": "ED9KB3I54c1i"
      },
      "outputs": [
        {
          "name": "stdout",
          "output_type": "stream",
          "text": [
            "dog\n"
          ]
        },
        {
          "data": {
            "image/jpeg": "[encoded data removed]",
            "text/plain": [
              "<IPython.core.display.Image object>"
            ]
          },
          "metadata": {},
          "output_type": "display_data"
        }
      ],
      "source": [
        "print(prediction)\n",
        "display(Image(filename=img_path))"
      ]
    },
    {
      "attachments": {},
      "cell_type": "markdown",
      "metadata": {},
      "source": [
        "Summary of single predictions using the abridged dataset:\n",
        "\n",
        "| Image | Predicted | Actual\n",
        "| :--: | :-- | :-- |\n",
        "| 1 | Cat | Cat |\n",
        "| 2 | Dog | Cat |\n",
        "| 3 | Cat | Cat |\n",
        "| 4 | Dog | Cat |\n",
        "| 5 | Cat | Cat |\n",
        "| 6 | Cat | Dog |\n",
        "| 7 | Dog | Dog |\n",
        "| 8 | Dog | Dog |\n",
        "| 9 | Cat | Dog |\n",
        "| 10 | Dog | Dog |\n",
        "\n",
        "Out of a small sample of 10 single predictions, half of the images were misclassified: 2, 4, 5, 6, and 9."
      ]
    },
    {
      "attachments": {},
      "cell_type": "markdown",
      "metadata": {},
      "source": [
        "### Using the full dataset"
      ]
    },
    {
      "attachments": {},
      "cell_type": "markdown",
      "metadata": {},
      "source": [
        "Summary of single predictions using the full dataset:\n",
        "\n",
        "| Image | Predicted | Actual\n",
        "| :--: | :-- | :-- |\n",
        "| 1 | Dog | Cat |\n",
        "| 2 | Dog | Cat |\n",
        "| 3 | Cat | Cat |\n",
        "| 4 | Dog | Cat |\n",
        "| 5 | Cat | Cat |\n",
        "| 6 | Dog | Dog |\n",
        "| 7 | Dog | Dog |\n",
        "| 8 | Dog | Dog |\n",
        "| 9 | Dog | Dog |\n",
        "| 10 | Dog | Dog |\n",
        "\n",
        "Three images were misclassified: 1, 2, and 4. In this case, more training examples led to lower loss and higher accuracy."
      ]
    },
    {
      "cell_type": "code",
      "execution_count": 18,
      "metadata": {},
      "outputs": [
        {
          "data": {
            "image/png": "[encoded data removed]",
            "text/plain": [
              "<IPython.core.display.Image object>"
            ]
          },
          "metadata": {},
          "output_type": "display_data"
        }
      ],
      "source": [
        "display(Image(filename=\"output_full_dataset.png\"))"
      ]
    }
  ],
  "metadata": {
    "colab": {
      "collapsed_sections": [],
      "name": "convolutional_neural_network.ipynb",
      "provenance": [],
      "toc_visible": true
    },
    "kernelspec": {
      "display_name": "Python 3",
      "name": "python3"
    },
    "language_info": {
      "codemirror_mode": {
        "name": "ipython",
        "version": 3
      },
      "file_extension": ".py",
      "mimetype": "text/x-python",
      "name": "python",
      "nbconvert_exporter": "python",
      "pygments_lexer": "ipython3",
      "version": "3.11.2"
    }
  },
  "nbformat": 4,
  "nbformat_minor": 0
}
